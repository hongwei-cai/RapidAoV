{
 "cells": [
  {
   "cell_type": "markdown",
   "id": "43c2ef50",
   "metadata": {
    "cell_marker": "\"\"\""
   },
   "source": [
    "# Data Preprocessing and Feature Selection\n",
    "This notebook handles the preprocessing and feature selection for aortic aneurysm datasets. The primary goal of this notebook is to:\n",
    "\n",
    "1. Load and preprocess multiple datasets related to aortic aneurysm research.\n",
    "2. Merge datasets based on specific regions of interest (e.g., root, ascending aorta).\n",
    "3. Perform feature cleaning and filtering to retain only relevant features.\n",
    "4. Prepare labels for classification tasks.\n",
    "5. Save the preprocessed data for further analysis."
   ]
  },
  {
   "cell_type": "markdown",
   "id": "6537f279",
   "metadata": {},
   "source": [
    "## 1. Import Libraries and Define Global Variables\n",
    "\n",
    "This section imports the required libraries and defines global variables, such as file paths (`FILE_PATHS`) and columns to exclude (`EXCLUDE_COLS`), which will be used throughout the notebook."
   ]
  },
  {
   "cell_type": "code",
   "execution_count": 1,
   "id": "17a3faca",
   "metadata": {},
   "outputs": [],
   "source": [
    "import pandas as pd\n",
    "import numpy as np\n",
    "import matplotlib.pyplot as plt\n",
    "from ipywidgets import interact, Dropdown\n",
    "from typing import Dict, List\n",
    "from functools import reduce\n",
    "from utils import (load_data, clean_feature_df, merge_dataframes, \n",
    "                  categorize_diameter, filter_feature_types)\n",
    "\n",
    "\n",
    "FILE_PATHS = {\n",
    "    \"Ascending\": \"../../Data/measures/Ascending.csv\",\n",
    "    \"CenterlineCurvature\": \"../../Data/measures/AscendingProfile_CenterlineCurvature.csv\",\n",
    "    \"Eccentricity\": \"../../Data/measures/AscendingProfile_Eccentricity.csv\",\n",
    "    \"Sinuses2D\": \"../../Data/measures/Sinuses2D.csv\",\n",
    "    \"Sinuses3D\": \"../../Data/measures/Sinuses3D.csv\",\n",
    "    \"Features_LCS\": \"../../Data/radiomics/Features_LCS.csv\",\n",
    "    \"Features_NCS\": \"../../Data/radiomics/Features_NCS.csv\",\n",
    "    \"Features_RCS\": \"../../Data/radiomics/Features_RCS.csv\",\n",
    "    \"Features_RootTop\": \"../../Data/radiomics/Features_RootTop.csv\"\n",
    "}\n",
    "\n",
    "EXCLUDE_COLS = {\n",
    "    \"Ascending\": [\"max_diameter\", \"volume\"],\n",
    "    \"CenterlineCurvature\": [],\n",
    "    \"Eccentricity\": [],\n",
    "    \"Sinuses2D\": [],\n",
    "    \"Sinuses3D\": [],\n",
    "    \"Features_LCS\": [],\n",
    "    \"Features_NCS\": [],\n",
    "    \"Features_RCS\": [],\n",
    "    \"Features_RootTop\": []\n",
    "}"
   ]
  },
  {
   "cell_type": "markdown",
   "id": "17daef2f-47d2-4a7f-9886-415dffcf9c74",
   "metadata": {},
   "source": [
    "## 2. Define Functions\n",
    "\n",
    "This section defines the following key functions:\n",
    "\n",
    "1. **`merge_datasets(region_setting: str) -> pd.DataFrame`**:\n",
    "   - Merges datasets based on the specified region setting (`root` or `root+aa`).\n",
    "   - Cleans radiomics features and selects datasets to merge.\n",
    "\n",
    "2. **`prepare_labels(data_dict: Dict[str, pd.DataFrame]) -> pd.DataFrame`**:\n",
    "   - Prepares labels for classification tasks by categorizing the `max_diameter` column into clinical groups.\n",
    "\n",
    "3. **`visualize_class_distribution(final_data: pd.DataFrame)`**:\n",
    "   - Visualizes the class distribution of the labels using a bar chart."
   ]
  },
  {
   "cell_type": "code",
   "execution_count": 2,
   "id": "312c270a",
   "metadata": {},
   "outputs": [],
   "source": [
    "def merge_datasets(region_setting: str) -> pd.DataFrame:\n",
    "    \"\"\"\n",
    "    Merges datasets based on the specified region setting.\n",
    "    \"\"\"\n",
    "    df_data = load_data(FILE_PATHS)\n",
    "\n",
    "    # Clean radiomics features\n",
    "    for key, suffix in zip(\n",
    "        [\"Features_LCS\", \"Features_NCS\", \"Features_RCS\", \"Features_RootTop\"],\n",
    "        [\"_LCS\", \"_NCS\", \"_RCS\", \"_RootTop\"]\n",
    "    ):\n",
    "        df_data[key] = clean_feature_df(df_data[key], suffix)\n",
    "\n",
    "    # Select datasets to merge\n",
    "    selected_dfs = [\"Sinuses2D\", \"Sinuses3D\", \"Features_LCS\", \"Features_NCS\", \"Features_RCS\", \"Features_RootTop\"]\n",
    "    if region_setting == \"root+aa\":\n",
    "        df_data[\"Ascending\"] = df_data[\"Ascending\"].drop(columns=EXCLUDE_COLS[\"Ascending\"], errors=\"ignore\")\n",
    "        selected_dfs += [\"Ascending\", \"CenterlineCurvature\", \"Eccentricity\"]\n",
    "\n",
    "    # Merge datasets\n",
    "    merged = merge_dataframes(df_data, selected_dfs)\n",
    "    return merged\n",
    "\n",
    "def prepare_labels(data_dict: Dict[str, pd.DataFrame]) -> pd.DataFrame:\n",
    "    \"\"\"\n",
    "    Prepares labels for classification tasks.\n",
    "    \"\"\"\n",
    "    label_data = data_dict[\"Ascending\"][[\"ID\", \"max_diameter\"]].copy()\n",
    "    label_data[\"Label\"] = label_data[\"max_diameter\"].apply(categorize_diameter)\n",
    "    return label_data\n",
    "\n",
    "def visualize_class_distribution(final_data: pd.DataFrame):\n",
    "    \"\"\"\n",
    "    Visualizes the class distribution of the labels.\n",
    "    \"\"\"\n",
    "    plt.figure(figsize=(8, 4))\n",
    "    final_data[\"Label\"].value_counts().sort_index().plot(kind=\"bar\")\n",
    "    plt.title(\"Class Distribution\")\n",
    "    plt.xticks([0, 1, 2, 3], [\"<40mm\", \"40-45mm\", \"45-50mm\", \"≥50mm\"], rotation=0)\n",
    "    plt.show()"
   ]
  },
  {
   "cell_type": "markdown",
   "id": "68cb4e45",
   "metadata": {},
   "source": [
    "## 3. Main Workflow\n",
    "\n",
    "This section executes the main workflow of the notebook:\n",
    "\n",
    "1. **Load Datasets**:\n",
    "   - Loads datasets from the specified file paths (`FILE_PATHS`) into a dictionary (`data_dict`).\n",
    "\n",
    "2. **Merge Datasets**:\n",
    "   - Merges datasets based on the selected region setting (`root+aa`).\n",
    "\n",
    "3. **Prepare Labels**:\n",
    "   - Prepares classification labels by categorizing the `max_diameter` column.\n",
    "\n",
    "4. **Merge Labels with Data**:\n",
    "   - Combines the merged datasets with the prepared labels.\n",
    "\n",
    "5. **Visualize Class Distribution**:\n",
    "   - Visualizes the distribution of the classification labels."
   ]
  },
  {
   "cell_type": "code",
   "execution_count": 3,
   "id": "cc001eb1",
   "metadata": {},
   "outputs": [
    {
     "name": "stdout",
     "output_type": "stream",
     "text": [
      "Loaded datasets:\n",
      "Ascending: (215, 9)\n",
      "CenterlineCurvature: (215, 22)\n",
      "Eccentricity: (215, 22)\n",
      "Sinuses2D: (215, 27)\n",
      "Sinuses3D: (215, 7)\n",
      "Features_LCS: (215, 147)\n",
      "Features_NCS: (215, 147)\n",
      "Features_RCS: (215, 147)\n",
      "Features_RootTop: (215, 147)\n"
     ]
    },
    {
     "data": {
      "image/png": "[encoded data removed]",
      "text/plain": [
       "<Figure size 800x400 with 1 Axes>"
      ]
     },
     "metadata": {},
     "output_type": "display_data"
    }
   ],
   "source": [
    "# Load datasets\n",
    "data_dict = load_data(FILE_PATHS)\n",
    "print(\"Loaded datasets:\")\n",
    "for name, df in data_dict.items():\n",
    "    print(f\"{name}: {df.shape}\")\n",
    "\n",
    "# Merge datasets\n",
    "region_setting = \"root+aa\"\n",
    "merged_data = merge_datasets(region_setting)\n",
    "\n",
    "# Prepare labels\n",
    "label_data = prepare_labels(data_dict)\n",
    "\n",
    "# Merge labels with data\n",
    "final_data = merged_data.merge(\n",
    "    label_data[[\"ID\", \"Label\", \"max_diameter\"]],\n",
    "    on=\"ID\",\n",
    "    how=\"inner\"\n",
    ")\n",
    "\n",
    "# Visualize class distribution\n",
    "visualize_class_distribution(final_data)"
   ]
  },
  {
   "cell_type": "markdown",
   "id": "e489433c",
   "metadata": {
    "cell_marker": "\"\"\""
   },
   "source": [
    "## 4. Interactive Widgets\n",
    "\n",
    "This section provides interactive widgets for exploring and saving the data:\n",
    "\n",
    "1. **`interactive_merge(region_setting)`**:\n",
    "   - Allows users to interactively merge datasets based on the selected region setting (`root` or `root+aa`).\n",
    "   - Displays the first two rows of the merged dataset and its shape.\n",
    "\n",
    "2. **`filter_features(feature_type)`**:\n",
    "   - Allows users to filter features interactively based on the selected feature type (e.g., `shape+measure` or `all`).\n",
    "   - Displays the distribution of feature types in a bar chart.\n",
    "\n",
    "3. **`save_preprocessed_data_with_plot(region_setting, feature_type)`**:\n",
    "   - Allows users to save the preprocessed data interactively based on the selected `region_setting` and `feature_type`.\n",
    "   - Saves the filtered data to a CSV file with a descriptive name.\n",
    "   - Displays a bar chart showing the class distribution of the labels in the filtered data."
   ]
  },
  {
   "cell_type": "code",
   "execution_count": 4,
   "id": "56b3c166",
   "metadata": {},
   "outputs": [
    {
     "data": {
      "application/vnd.jupyter.widget-view+json": {
       "model_id": "e00dae308e2445f2b2438f97e4a5047f",
       "version_major": 2,
       "version_minor": 0
      },
      "text/plain": [
       "interactive(children=(Dropdown(description='region_setting', options=('root', 'root+aa'), value='root'), Outpu…"
      ]
     },
     "metadata": {},
     "output_type": "display_data"
    },
    {
     "data": {
      "application/vnd.jupyter.widget-view+json": {
       "model_id": "b8c375a5fe254b26a27b75dddbce4e3d",
       "version_major": 2,
       "version_minor": 0
      },
      "text/plain": [
       "interactive(children=(Dropdown(description='feature_type', options=('shape+measure', 'all'), value='shape+meas…"
      ]
     },
     "metadata": {},
     "output_type": "display_data"
    },
    {
     "name": "stdout",
     "output_type": "stream",
     "text": [
      "Save preprocessed data based on region setting and feature type\n"
     ]
    },
    {
     "data": {
      "application/vnd.jupyter.widget-view+json": {
       "model_id": "b6d4a09cc19342d2861cf18e68718a1f",
       "version_major": 2,
       "version_minor": 0
      },
      "text/plain": [
       "interactive(children=(Dropdown(description='region_setting', options=('root', 'root+aa'), value='root'), Dropd…"
      ]
     },
     "metadata": {},
     "output_type": "display_data"
    }
   ],
   "source": [
    "@interact\n",
    "def interactive_merge(region_setting=[\"root\", \"root+aa\"]):\n",
    "    merged = merge_datasets(region_setting)\n",
    "    print(f\"Merged shape: {merged.shape}\")\n",
    "    return merged\n",
    "\n",
    "@interact\n",
    "def filter_features(feature_type=[\"shape+measure\", \"all\"]):\n",
    "    filtered = filter_feature_types(final_data, feature_type)\n",
    "    print(f\"Filtered to {filtered.shape[1]} features\")\n",
    "\n",
    "    # Show feature types\n",
    "    from collections import defaultdict\n",
    "    feature_groups = defaultdict(int)\n",
    "    for col in filtered.columns:\n",
    "        if \"original_shape_\" in col:\n",
    "            feature_groups[\"shape\"] += 1\n",
    "        elif \"original_firstorder_\" in col:\n",
    "            feature_groups[\"firstorder\"] += 1\n",
    "        elif any(x in col for x in [\"glcm\", \"gldm\", \"glrlm\", \"glszm\", \"ngtdm\"]):\n",
    "            feature_groups[\"texture\"] += 1\n",
    "        elif col not in [\"ID\", \"Label\", \"max_diameter\"]:\n",
    "            feature_groups[\"measure\"] += 1\n",
    "\n",
    "    plt.figure(figsize=(8, 4))\n",
    "    pd.Series(feature_groups).plot(kind=\"barh\")\n",
    "    plt.title(\"Feature Type Distribution\")\n",
    "    plt.show()\n",
    "\n",
    "    return filtered\n",
    "\n",
    "print(\"Save preprocessed data based on region setting and feature type\")\n",
    "\n",
    "@interact\n",
    "def save_preprocessed_data_with_plot(region_setting=[\"root\", \"root+aa\"], feature_type=[\"shape+measure\", \"all\"]):\n",
    "    # Merge datasets based on region_setting\n",
    "    merged_data = merge_datasets(region_setting)\n",
    "    \n",
    "    # Prepare labels\n",
    "    label_data = prepare_labels(data_dict)\n",
    "    \n",
    "    # Merge labels with data\n",
    "    final_data = merged_data.merge(\n",
    "        label_data[[\"ID\", \"Label\", \"max_diameter\"]],\n",
    "        on=\"ID\",\n",
    "        how=\"inner\"\n",
    "    )\n",
    "    \n",
    "    # Filter features based on feature_type\n",
    "    filtered_data = filter_feature_types(final_data, feature_type)\n",
    "    \n",
    "    # Save the filtered data to a CSV file\n",
    "    output_file = f\"preprocessed_data_{region_setting}_{feature_type}.csv\"\n",
    "    filtered_data.to_csv(output_file, index=False)\n",
    "    print(f\"Preprocessed data saved to {output_file}\")\n",
    "    \n",
    "    # Plot class distribution\n",
    "    plt.figure(figsize=(8, 4))\n",
    "    filtered_data[\"Label\"].value_counts().sort_index().plot(kind=\"bar\")\n",
    "    plt.title(f\"Class Distribution ({region_setting}, {feature_type})\")\n",
    "    plt.xticks([0, 1, 2, 3], [\"<40mm\", \"40-45mm\", \"45-50mm\", \"≥50mm\"], rotation=0)\n",
    "    plt.xlabel(\"Clinical Groups\")\n",
    "    plt.ylabel(\"Count\")\n",
    "    plt.show()"
   ]
  },
  {
   "cell_type": "markdown",
   "id": "391c9115-664f-4db7-b24f-c5d4b6370b13",
   "metadata": {},
   "source": [
    "## 5. Next Steps: Transition to Model Training and Evaluation\n",
    "\n",
    "With the data preprocessing and feature selection completed, the next step is to train and evaluate machine learning models using the preprocessed data. The following tasks will be performed in the next notebook, **\"Model Training and Evaluation\"**:\n",
    "\n",
    "1. **Load Preprocessed Data**:\n",
    "   - Import the preprocessed dataset saved in this notebook (e.g., `preprocessed_data_root_all.csv`).\n",
    "   - Verify the integrity of the dataset and ensure all required columns are present.\n",
    "\n",
    "2. **Prepare Features and Targets**:\n",
    "   - Separate the feature matrix (`X`) and target variables (`y_class` for classification and `y_reg` for regression).\n",
    "   - Ensure the data is ready for training by checking class distributions and feature statistics.\n",
    "\n",
    "3. **Train and Evaluate Models**:\n",
    "   - Train machine learning models for both classification (e.g., predicting clinical groups) and regression (e.g., predicting maximum diameter).\n",
    "   - Use cross-validation to evaluate model performance and ensure robustness.\n",
    "   - Generate performance metrics such as accuracy, confusion matrices, ROC curves (for classification), and RMSE/MAE/R² (for regression).\n",
    "\n",
    "4. **Save Trained Models**:\n",
    "   - Save the trained models (e.g., `aortic_classifier.joblib` and `aortic_regressor.joblib`) for future use in prediction or deployment.\n",
    "\n",
    "### Prerequisites for the Next Notebook:\n",
    "- Ensure the preprocessed dataset has been saved correctly (e.g., `preprocessed_data_root_all.csv`).\n",
    "- Verify that all required columns (`ID`, `Label`, `max_diameter`, and features) are present in the dataset.\n",
    "\n",
    "Proceed to the **\"Model Training and Evaluation\"** notebook to begin training and evaluating your models."
   ]
  }
 ],
 "metadata": {
  "jupytext": {
   "cell_metadata_filter": "-all",
   "main_language": "python",
   "notebook_metadata_filter": "-all"
  },
  "kernelspec": {
   "display_name": "aorta",
   "language": "python",
   "name": "aorta"
  },
  "language_info": {
   "codemirror_mode": {
    "name": "ipython",
    "version": 3
   },
   "file_extension": ".py",
   "mimetype": "text/x-python",
   "name": "python",
   "nbconvert_exporter": "python",
   "pygments_lexer": "ipython3",
   "version": "3.10.16"
  }
 },
 "nbformat": 4,
 "nbformat_minor": 5
}
