{
 "cells": [
  {
   "cell_type": "markdown",
   "id": "a6fefe97",
   "metadata": {
    "cell_marker": "\"\"\""
   },
   "source": [
    "# Model Training and Evaluation Notebook\n",
    "This notebook handles model training, cross-validation, and performance evaluation"
   ]
  },
  {
   "cell_type": "markdown",
   "id": "7e6efccb",
   "metadata": {
    "cell_marker": "\"\"\""
   },
   "source": [
    "## 1. Import Required Libraries"
   ]
  },
  {
   "cell_type": "code",
   "execution_count": 11,
   "id": "4d85e63b",
   "metadata": {},
   "outputs": [],
   "source": [
    "import numpy as np\n",
    "import pandas as pd\n",
    "import matplotlib.pyplot as plt\n",
    "from utils import (\n",
    "    get_xgb_classifier,\n",
    "    get_xgb_regressor,\n",
    "    evaluate_classifier,\n",
    "    evaluate_regressor,\n",
    "    plot_confusion_matrix,\n",
    "    plot_roc_curves,\n",
    "    plot_feature_importance\n",
    ")\n",
    "from sklearn.model_selection import StratifiedKFold, KFold\n",
    "import xgboost as xgb\n",
    "import joblib"
   ]
  },
  {
   "cell_type": "markdown",
   "id": "fcbcd3f9",
   "metadata": {
    "cell_marker": "\"\"\""
   },
   "source": [
    "## 2. Load Preprocessed Data\n",
    "Make sure you've run the preprocessing notebook first"
   ]
  },
  {
   "cell_type": "code",
   "execution_count": 12,
   "id": "c23be30d",
   "metadata": {},
   "outputs": [
    {
     "name": "stdout",
     "output_type": "stream",
     "text": [
      "Data loaded successfully!\n",
      "Shape: (215, 461)\n",
      "\n",
      "Columns available:\n",
      "['ID', 'centroid_area', 'centroid_offset', 'c2c_dist_lcs', 'c2c_dist_rcs', 'c2c_dist_ncs', 's2c_dist_lcs', 's2c_dist_rcs', 's2c_dist_ncs', 's2s_dist_lcs_rcs', 's2s_dist_rcs_ncs', 's2s_dist_ncs_lcs', 'width_lcs', 'width_rcs', 'width_ncs', 'radius_lcs', 'radius_rcs', 'radius_ncs', 'angle_lcs', 'angle_rcs', 'angle_ncs', 'contour_length_lcs', 'contour_length_rcs', 'contour_length_ncs', 'area_lcs', 'area_rcs', 'area_ncs', 'volume_lcs', 'volume_rcs', 'volume_ncs', 'height_lcs', 'height_rcs', 'height_ncs', 'original_shape_Elongation_LCS', 'original_shape_Flatness_LCS', 'original_shape_LeastAxisLength_LCS', 'original_shape_MajorAxisLength_LCS', 'original_shape_Maximum2DDiameterColumn_LCS', 'original_shape_Maximum2DDiameterRow_LCS', 'original_shape_Maximum2DDiameterSlice_LCS', 'original_shape_Maximum3DDiameter_LCS', 'original_shape_MeshVolume_LCS', 'original_shape_MinorAxisLength_LCS', 'original_shape_Sphericity_LCS', 'original_shape_SurfaceArea_LCS', 'original_shape_SurfaceVolumeRatio_LCS', 'original_shape_VoxelVolume_LCS', 'original_firstorder_10Percentile_LCS', 'original_firstorder_90Percentile_LCS', 'original_firstorder_Energy_LCS', 'original_firstorder_Entropy_LCS', 'original_firstorder_InterquartileRange_LCS', 'original_firstorder_Kurtosis_LCS', 'original_firstorder_Maximum_LCS', 'original_firstorder_MeanAbsoluteDeviation_LCS', 'original_firstorder_Mean_LCS', 'original_firstorder_Median_LCS', 'original_firstorder_Minimum_LCS', 'original_firstorder_Range_LCS', 'original_firstorder_RobustMeanAbsoluteDeviation_LCS', 'original_firstorder_RootMeanSquared_LCS', 'original_firstorder_Skewness_LCS', 'original_firstorder_TotalEnergy_LCS', 'original_firstorder_Uniformity_LCS', 'original_firstorder_Variance_LCS', 'original_glcm_Autocorrelation_LCS', 'original_glcm_ClusterProminence_LCS', 'original_glcm_ClusterShade_LCS', 'original_glcm_ClusterTendency_LCS', 'original_glcm_Contrast_LCS', 'original_glcm_Correlation_LCS', 'original_glcm_DifferenceAverage_LCS', 'original_glcm_DifferenceEntropy_LCS', 'original_glcm_DifferenceVariance_LCS', 'original_glcm_Id_LCS', 'original_glcm_Idm_LCS', 'original_glcm_Idmn_LCS', 'original_glcm_Idn_LCS', 'original_glcm_Imc1_LCS', 'original_glcm_Imc2_LCS', 'original_glcm_InverseVariance_LCS', 'original_glcm_JointAverage_LCS', 'original_glcm_JointEnergy_LCS', 'original_glcm_JointEntropy_LCS', 'original_glcm_MCC_LCS', 'original_glcm_MaximumProbability_LCS', 'original_glcm_SumAverage_LCS', 'original_glcm_SumEntropy_LCS', 'original_glcm_SumSquares_LCS', 'original_gldm_DependenceEntropy_LCS', 'original_gldm_DependenceNonUniformity_LCS', 'original_gldm_DependenceNonUniformityNormalized_LCS', 'original_gldm_DependenceVariance_LCS', 'original_gldm_GrayLevelNonUniformity_LCS', 'original_gldm_GrayLevelVariance_LCS', 'original_gldm_HighGrayLevelEmphasis_LCS', 'original_gldm_LargeDependenceEmphasis_LCS', 'original_gldm_LargeDependenceHighGrayLevelEmphasis_LCS', 'original_gldm_LargeDependenceLowGrayLevelEmphasis_LCS', 'original_gldm_LowGrayLevelEmphasis_LCS', 'original_gldm_SmallDependenceEmphasis_LCS', 'original_gldm_SmallDependenceHighGrayLevelEmphasis_LCS', 'original_gldm_SmallDependenceLowGrayLevelEmphasis_LCS', 'original_glrlm_GrayLevelNonUniformity_LCS', 'original_glrlm_GrayLevelNonUniformityNormalized_LCS', 'original_glrlm_GrayLevelVariance_LCS', 'original_glrlm_HighGrayLevelRunEmphasis_LCS', 'original_glrlm_LongRunEmphasis_LCS', 'original_glrlm_LongRunHighGrayLevelEmphasis_LCS', 'original_glrlm_LongRunLowGrayLevelEmphasis_LCS', 'original_glrlm_LowGrayLevelRunEmphasis_LCS', 'original_glrlm_RunEntropy_LCS', 'original_glrlm_RunLengthNonUniformity_LCS', 'original_glrlm_RunLengthNonUniformityNormalized_LCS', 'original_glrlm_RunPercentage_LCS', 'original_glrlm_RunVariance_LCS', 'original_glrlm_ShortRunEmphasis_LCS', 'original_glrlm_ShortRunHighGrayLevelEmphasis_LCS', 'original_glrlm_ShortRunLowGrayLevelEmphasis_LCS', 'original_glszm_GrayLevelNonUniformity_LCS', 'original_glszm_GrayLevelNonUniformityNormalized_LCS', 'original_glszm_GrayLevelVariance_LCS', 'original_glszm_HighGrayLevelZoneEmphasis_LCS', 'original_glszm_LargeAreaEmphasis_LCS', 'original_glszm_LargeAreaHighGrayLevelEmphasis_LCS', 'original_glszm_LargeAreaLowGrayLevelEmphasis_LCS', 'original_glszm_LowGrayLevelZoneEmphasis_LCS', 'original_glszm_SizeZoneNonUniformity_LCS', 'original_glszm_SizeZoneNonUniformityNormalized_LCS', 'original_glszm_SmallAreaEmphasis_LCS', 'original_glszm_SmallAreaHighGrayLevelEmphasis_LCS', 'original_glszm_SmallAreaLowGrayLevelEmphasis_LCS', 'original_glszm_ZoneEntropy_LCS', 'original_glszm_ZonePercentage_LCS', 'original_glszm_ZoneVariance_LCS', 'original_ngtdm_Busyness_LCS', 'original_ngtdm_Coarseness_LCS', 'original_ngtdm_Complexity_LCS', 'original_ngtdm_Contrast_LCS', 'original_ngtdm_Strength_LCS', 'original_shape_Elongation_NCS', 'original_shape_Flatness_NCS', 'original_shape_LeastAxisLength_NCS', 'original_shape_MajorAxisLength_NCS', 'original_shape_Maximum2DDiameterColumn_NCS', 'original_shape_Maximum2DDiameterRow_NCS', 'original_shape_Maximum2DDiameterSlice_NCS', 'original_shape_Maximum3DDiameter_NCS', 'original_shape_MeshVolume_NCS', 'original_shape_MinorAxisLength_NCS', 'original_shape_Sphericity_NCS', 'original_shape_SurfaceArea_NCS', 'original_shape_SurfaceVolumeRatio_NCS', 'original_shape_VoxelVolume_NCS', 'original_firstorder_10Percentile_NCS', 'original_firstorder_90Percentile_NCS', 'original_firstorder_Energy_NCS', 'original_firstorder_Entropy_NCS', 'original_firstorder_InterquartileRange_NCS', 'original_firstorder_Kurtosis_NCS', 'original_firstorder_Maximum_NCS', 'original_firstorder_MeanAbsoluteDeviation_NCS', 'original_firstorder_Mean_NCS', 'original_firstorder_Median_NCS', 'original_firstorder_Minimum_NCS', 'original_firstorder_Range_NCS', 'original_firstorder_RobustMeanAbsoluteDeviation_NCS', 'original_firstorder_RootMeanSquared_NCS', 'original_firstorder_Skewness_NCS', 'original_firstorder_TotalEnergy_NCS', 'original_firstorder_Uniformity_NCS', 'original_firstorder_Variance_NCS', 'original_glcm_Autocorrelation_NCS', 'original_glcm_ClusterProminence_NCS', 'original_glcm_ClusterShade_NCS', 'original_glcm_ClusterTendency_NCS', 'original_glcm_Contrast_NCS', 'original_glcm_Correlation_NCS', 'original_glcm_DifferenceAverage_NCS', 'original_glcm_DifferenceEntropy_NCS', 'original_glcm_DifferenceVariance_NCS', 'original_glcm_Id_NCS', 'original_glcm_Idm_NCS', 'original_glcm_Idmn_NCS', 'original_glcm_Idn_NCS', 'original_glcm_Imc1_NCS', 'original_glcm_Imc2_NCS', 'original_glcm_InverseVariance_NCS', 'original_glcm_JointAverage_NCS', 'original_glcm_JointEnergy_NCS', 'original_glcm_JointEntropy_NCS', 'original_glcm_MCC_NCS', 'original_glcm_MaximumProbability_NCS', 'original_glcm_SumAverage_NCS', 'original_glcm_SumEntropy_NCS', 'original_glcm_SumSquares_NCS', 'original_gldm_DependenceEntropy_NCS', 'original_gldm_DependenceNonUniformity_NCS', 'original_gldm_DependenceNonUniformityNormalized_NCS', 'original_gldm_DependenceVariance_NCS', 'original_gldm_GrayLevelNonUniformity_NCS', 'original_gldm_GrayLevelVariance_NCS', 'original_gldm_HighGrayLevelEmphasis_NCS', 'original_gldm_LargeDependenceEmphasis_NCS', 'original_gldm_LargeDependenceHighGrayLevelEmphasis_NCS', 'original_gldm_LargeDependenceLowGrayLevelEmphasis_NCS', 'original_gldm_LowGrayLevelEmphasis_NCS', 'original_gldm_SmallDependenceEmphasis_NCS', 'original_gldm_SmallDependenceHighGrayLevelEmphasis_NCS', 'original_gldm_SmallDependenceLowGrayLevelEmphasis_NCS', 'original_glrlm_GrayLevelNonUniformity_NCS', 'original_glrlm_GrayLevelNonUniformityNormalized_NCS', 'original_glrlm_GrayLevelVariance_NCS', 'original_glrlm_HighGrayLevelRunEmphasis_NCS', 'original_glrlm_LongRunEmphasis_NCS', 'original_glrlm_LongRunHighGrayLevelEmphasis_NCS', 'original_glrlm_LongRunLowGrayLevelEmphasis_NCS', 'original_glrlm_LowGrayLevelRunEmphasis_NCS', 'original_glrlm_RunEntropy_NCS', 'original_glrlm_RunLengthNonUniformity_NCS', 'original_glrlm_RunLengthNonUniformityNormalized_NCS', 'original_glrlm_RunPercentage_NCS', 'original_glrlm_RunVariance_NCS', 'original_glrlm_ShortRunEmphasis_NCS', 'original_glrlm_ShortRunHighGrayLevelEmphasis_NCS', 'original_glrlm_ShortRunLowGrayLevelEmphasis_NCS', 'original_glszm_GrayLevelNonUniformity_NCS', 'original_glszm_GrayLevelNonUniformityNormalized_NCS', 'original_glszm_GrayLevelVariance_NCS', 'original_glszm_HighGrayLevelZoneEmphasis_NCS', 'original_glszm_LargeAreaEmphasis_NCS', 'original_glszm_LargeAreaHighGrayLevelEmphasis_NCS', 'original_glszm_LargeAreaLowGrayLevelEmphasis_NCS', 'original_glszm_LowGrayLevelZoneEmphasis_NCS', 'original_glszm_SizeZoneNonUniformity_NCS', 'original_glszm_SizeZoneNonUniformityNormalized_NCS', 'original_glszm_SmallAreaEmphasis_NCS', 'original_glszm_SmallAreaHighGrayLevelEmphasis_NCS', 'original_glszm_SmallAreaLowGrayLevelEmphasis_NCS', 'original_glszm_ZoneEntropy_NCS', 'original_glszm_ZonePercentage_NCS', 'original_glszm_ZoneVariance_NCS', 'original_ngtdm_Busyness_NCS', 'original_ngtdm_Coarseness_NCS', 'original_ngtdm_Complexity_NCS', 'original_ngtdm_Contrast_NCS', 'original_ngtdm_Strength_NCS', 'original_shape_Elongation_RCS', 'original_shape_Flatness_RCS', 'original_shape_LeastAxisLength_RCS', 'original_shape_MajorAxisLength_RCS', 'original_shape_Maximum2DDiameterColumn_RCS', 'original_shape_Maximum2DDiameterRow_RCS', 'original_shape_Maximum2DDiameterSlice_RCS', 'original_shape_Maximum3DDiameter_RCS', 'original_shape_MeshVolume_RCS', 'original_shape_MinorAxisLength_RCS', 'original_shape_Sphericity_RCS', 'original_shape_SurfaceArea_RCS', 'original_shape_SurfaceVolumeRatio_RCS', 'original_shape_VoxelVolume_RCS', 'original_firstorder_10Percentile_RCS', 'original_firstorder_90Percentile_RCS', 'original_firstorder_Energy_RCS', 'original_firstorder_Entropy_RCS', 'original_firstorder_InterquartileRange_RCS', 'original_firstorder_Kurtosis_RCS', 'original_firstorder_Maximum_RCS', 'original_firstorder_MeanAbsoluteDeviation_RCS', 'original_firstorder_Mean_RCS', 'original_firstorder_Median_RCS', 'original_firstorder_Minimum_RCS', 'original_firstorder_Range_RCS', 'original_firstorder_RobustMeanAbsoluteDeviation_RCS', 'original_firstorder_RootMeanSquared_RCS', 'original_firstorder_Skewness_RCS', 'original_firstorder_TotalEnergy_RCS', 'original_firstorder_Uniformity_RCS', 'original_firstorder_Variance_RCS', 'original_glcm_Autocorrelation_RCS', 'original_glcm_ClusterProminence_RCS', 'original_glcm_ClusterShade_RCS', 'original_glcm_ClusterTendency_RCS', 'original_glcm_Contrast_RCS', 'original_glcm_Correlation_RCS', 'original_glcm_DifferenceAverage_RCS', 'original_glcm_DifferenceEntropy_RCS', 'original_glcm_DifferenceVariance_RCS', 'original_glcm_Id_RCS', 'original_glcm_Idm_RCS', 'original_glcm_Idmn_RCS', 'original_glcm_Idn_RCS', 'original_glcm_Imc1_RCS', 'original_glcm_Imc2_RCS', 'original_glcm_InverseVariance_RCS', 'original_glcm_JointAverage_RCS', 'original_glcm_JointEnergy_RCS', 'original_glcm_JointEntropy_RCS', 'original_glcm_MCC_RCS', 'original_glcm_MaximumProbability_RCS', 'original_glcm_SumAverage_RCS', 'original_glcm_SumEntropy_RCS', 'original_glcm_SumSquares_RCS', 'original_gldm_DependenceEntropy_RCS', 'original_gldm_DependenceNonUniformity_RCS', 'original_gldm_DependenceNonUniformityNormalized_RCS', 'original_gldm_DependenceVariance_RCS', 'original_gldm_GrayLevelNonUniformity_RCS', 'original_gldm_GrayLevelVariance_RCS', 'original_gldm_HighGrayLevelEmphasis_RCS', 'original_gldm_LargeDependenceEmphasis_RCS', 'original_gldm_LargeDependenceHighGrayLevelEmphasis_RCS', 'original_gldm_LargeDependenceLowGrayLevelEmphasis_RCS', 'original_gldm_LowGrayLevelEmphasis_RCS', 'original_gldm_SmallDependenceEmphasis_RCS', 'original_gldm_SmallDependenceHighGrayLevelEmphasis_RCS', 'original_gldm_SmallDependenceLowGrayLevelEmphasis_RCS', 'original_glrlm_GrayLevelNonUniformity_RCS', 'original_glrlm_GrayLevelNonUniformityNormalized_RCS', 'original_glrlm_GrayLevelVariance_RCS', 'original_glrlm_HighGrayLevelRunEmphasis_RCS', 'original_glrlm_LongRunEmphasis_RCS', 'original_glrlm_LongRunHighGrayLevelEmphasis_RCS', 'original_glrlm_LongRunLowGrayLevelEmphasis_RCS', 'original_glrlm_LowGrayLevelRunEmphasis_RCS', 'original_glrlm_RunEntropy_RCS', 'original_glrlm_RunLengthNonUniformity_RCS', 'original_glrlm_RunLengthNonUniformityNormalized_RCS', 'original_glrlm_RunPercentage_RCS', 'original_glrlm_RunVariance_RCS', 'original_glrlm_ShortRunEmphasis_RCS', 'original_glrlm_ShortRunHighGrayLevelEmphasis_RCS', 'original_glrlm_ShortRunLowGrayLevelEmphasis_RCS', 'original_glszm_GrayLevelNonUniformity_RCS', 'original_glszm_GrayLevelNonUniformityNormalized_RCS', 'original_glszm_GrayLevelVariance_RCS', 'original_glszm_HighGrayLevelZoneEmphasis_RCS', 'original_glszm_LargeAreaEmphasis_RCS', 'original_glszm_LargeAreaHighGrayLevelEmphasis_RCS', 'original_glszm_LargeAreaLowGrayLevelEmphasis_RCS', 'original_glszm_LowGrayLevelZoneEmphasis_RCS', 'original_glszm_SizeZoneNonUniformity_RCS', 'original_glszm_SizeZoneNonUniformityNormalized_RCS', 'original_glszm_SmallAreaEmphasis_RCS', 'original_glszm_SmallAreaHighGrayLevelEmphasis_RCS', 'original_glszm_SmallAreaLowGrayLevelEmphasis_RCS', 'original_glszm_ZoneEntropy_RCS', 'original_glszm_ZonePercentage_RCS', 'original_glszm_ZoneVariance_RCS', 'original_ngtdm_Busyness_RCS', 'original_ngtdm_Coarseness_RCS', 'original_ngtdm_Complexity_RCS', 'original_ngtdm_Contrast_RCS', 'original_ngtdm_Strength_RCS', 'original_shape_Elongation_RootTop', 'original_shape_Flatness_RootTop', 'original_shape_LeastAxisLength_RootTop', 'original_shape_MajorAxisLength_RootTop', 'original_shape_Maximum2DDiameterColumn_RootTop', 'original_shape_Maximum2DDiameterRow_RootTop', 'original_shape_Maximum2DDiameterSlice_RootTop', 'original_shape_Maximum3DDiameter_RootTop', 'original_shape_MeshVolume_RootTop', 'original_shape_MinorAxisLength_RootTop', 'original_shape_Sphericity_RootTop', 'original_shape_SurfaceArea_RootTop', 'original_shape_SurfaceVolumeRatio_RootTop', 'original_shape_VoxelVolume_RootTop', 'original_firstorder_10Percentile_RootTop', 'original_firstorder_90Percentile_RootTop', 'original_firstorder_Energy_RootTop', 'original_firstorder_Entropy_RootTop', 'original_firstorder_InterquartileRange_RootTop', 'original_firstorder_Kurtosis_RootTop', 'original_firstorder_Maximum_RootTop', 'original_firstorder_MeanAbsoluteDeviation_RootTop', 'original_firstorder_Mean_RootTop', 'original_firstorder_Median_RootTop', 'original_firstorder_Minimum_RootTop', 'original_firstorder_Range_RootTop', 'original_firstorder_RobustMeanAbsoluteDeviation_RootTop', 'original_firstorder_RootMeanSquared_RootTop', 'original_firstorder_Skewness_RootTop', 'original_firstorder_TotalEnergy_RootTop', 'original_firstorder_Uniformity_RootTop', 'original_firstorder_Variance_RootTop', 'original_glcm_Autocorrelation_RootTop', 'original_glcm_ClusterProminence_RootTop', 'original_glcm_ClusterShade_RootTop', 'original_glcm_ClusterTendency_RootTop', 'original_glcm_Contrast_RootTop', 'original_glcm_Correlation_RootTop', 'original_glcm_DifferenceAverage_RootTop', 'original_glcm_DifferenceEntropy_RootTop', 'original_glcm_DifferenceVariance_RootTop', 'original_glcm_Id_RootTop', 'original_glcm_Idm_RootTop', 'original_glcm_Idmn_RootTop', 'original_glcm_Idn_RootTop', 'original_glcm_Imc1_RootTop', 'original_glcm_Imc2_RootTop', 'original_glcm_InverseVariance_RootTop', 'original_glcm_JointAverage_RootTop', 'original_glcm_JointEnergy_RootTop', 'original_glcm_JointEntropy_RootTop', 'original_glcm_MCC_RootTop', 'original_glcm_MaximumProbability_RootTop', 'original_glcm_SumAverage_RootTop', 'original_glcm_SumEntropy_RootTop', 'original_glcm_SumSquares_RootTop', 'original_gldm_DependenceEntropy_RootTop', 'original_gldm_DependenceNonUniformity_RootTop', 'original_gldm_DependenceNonUniformityNormalized_RootTop', 'original_gldm_DependenceVariance_RootTop', 'original_gldm_GrayLevelNonUniformity_RootTop', 'original_gldm_GrayLevelVariance_RootTop', 'original_gldm_HighGrayLevelEmphasis_RootTop', 'original_gldm_LargeDependenceEmphasis_RootTop', 'original_gldm_LargeDependenceHighGrayLevelEmphasis_RootTop', 'original_gldm_LargeDependenceLowGrayLevelEmphasis_RootTop', 'original_gldm_LowGrayLevelEmphasis_RootTop', 'original_gldm_SmallDependenceEmphasis_RootTop', 'original_gldm_SmallDependenceHighGrayLevelEmphasis_RootTop', 'original_gldm_SmallDependenceLowGrayLevelEmphasis_RootTop', 'original_glrlm_GrayLevelNonUniformity_RootTop', 'original_glrlm_GrayLevelNonUniformityNormalized_RootTop', 'original_glrlm_GrayLevelVariance_RootTop', 'original_glrlm_HighGrayLevelRunEmphasis_RootTop', 'original_glrlm_LongRunEmphasis_RootTop', 'original_glrlm_LongRunHighGrayLevelEmphasis_RootTop', 'original_glrlm_LongRunLowGrayLevelEmphasis_RootTop', 'original_glrlm_LowGrayLevelRunEmphasis_RootTop', 'original_glrlm_RunEntropy_RootTop', 'original_glrlm_RunLengthNonUniformity_RootTop', 'original_glrlm_RunLengthNonUniformityNormalized_RootTop', 'original_glrlm_RunPercentage_RootTop', 'original_glrlm_RunVariance_RootTop', 'original_glrlm_ShortRunEmphasis_RootTop', 'original_glrlm_ShortRunHighGrayLevelEmphasis_RootTop', 'original_glrlm_ShortRunLowGrayLevelEmphasis_RootTop', 'original_glszm_GrayLevelNonUniformity_RootTop', 'original_glszm_GrayLevelNonUniformityNormalized_RootTop', 'original_glszm_GrayLevelVariance_RootTop', 'original_glszm_HighGrayLevelZoneEmphasis_RootTop', 'original_glszm_LargeAreaEmphasis_RootTop', 'original_glszm_LargeAreaHighGrayLevelEmphasis_RootTop', 'original_glszm_LargeAreaLowGrayLevelEmphasis_RootTop', 'original_glszm_LowGrayLevelZoneEmphasis_RootTop', 'original_glszm_SizeZoneNonUniformity_RootTop', 'original_glszm_SizeZoneNonUniformityNormalized_RootTop', 'original_glszm_SmallAreaEmphasis_RootTop', 'original_glszm_SmallAreaHighGrayLevelEmphasis_RootTop', 'original_glszm_SmallAreaLowGrayLevelEmphasis_RootTop', 'original_glszm_ZoneEntropy_RootTop', 'original_glszm_ZonePercentage_RootTop', 'original_glszm_ZoneVariance_RootTop', 'original_ngtdm_Busyness_RootTop', 'original_ngtdm_Coarseness_RootTop', 'original_ngtdm_Complexity_RootTop', 'original_ngtdm_Contrast_RootTop', 'original_ngtdm_Strength_RootTop']\n",
      "\n",
      "ERROR: Missing required columns: {'max_diameter'}\n"
     ]
    }
   ],
   "source": [
    "try:\n",
    "    final_features = pd.read_csv(\"preprocessed_data_root_all.csv\")\n",
    "    print(\"Data loaded successfully!\")\n",
    "    print(f\"Shape: {final_features.shape}\")\n",
    "    print(\"\\nColumns available:\")\n",
    "    print(final_features.columns.tolist())\n",
    "    \n",
    "    # Check for required columns\n",
    "    required_columns = {'ID', 'max_diameter'}\n",
    "    missing_columns = required_columns - set(final_features.columns)\n",
    "    \n",
    "    if missing_columns:\n",
    "        print(f\"\\nERROR: Missing required columns: {missing_columns}\")\n",
    "    else:\n",
    "        print(\"\\nAll required columns present\")\n",
    "        \n",
    "except FileNotFoundError:\n",
    "    print(\"Error: Could not find preprocessed_data.csv\")\n",
    "    print(\"Please run the data preprocessing notebook first\")"
   ]
  },
  {
   "cell_type": "markdown",
   "id": "6c22a715",
   "metadata": {
    "cell_marker": "\"\"\""
   },
   "source": [
    "## 3. Prepare Features and Targets"
   ]
  },
  {
   "cell_type": "code",
   "execution_count": 6,
   "id": "7134c048",
   "metadata": {},
   "outputs": [
    {
     "name": "stdout",
     "output_type": "stream",
     "text": [
      "\n",
      "Cannot prepare features - missing required data\n"
     ]
    }
   ],
   "source": [
    "if 'final_features' in locals() and not missing_columns:\n",
    "    # Create Label column if it doesn't exist\n",
    "    if 'Label' not in final_features.columns:\n",
    "        print(\"\\nCreating 'Label' column from 'max_diameter'\")\n",
    "        final_features['Label'] = final_features['max_diameter'].apply(\n",
    "            lambda x: 0 if x < 40 else (1 if x < 45 else (2 if x < 50 else 3))\n",
    "        )\n",
    "    \n",
    "    # Prepare features and targets\n",
    "    cols_to_drop = [col for col in [\"ID\", \"Label\", \"max_diameter\"] \n",
    "                   if col in final_features.columns]\n",
    "    X = final_features.drop(columns=cols_to_drop, errors='ignore')\n",
    "    y_class = final_features[\"Label\"]  # For classification\n",
    "    y_reg = final_features[\"max_diameter\"]  # For regression\n",
    "    \n",
    "    print(\"\\nFeature matrix shape:\", X.shape)\n",
    "    print(\"Class labels distribution:\")\n",
    "    print(y_class.value_counts().sort_index())\n",
    "    print(\"\\nDiameter statistics (mm):\")\n",
    "    print(y_reg.describe())\n",
    "else:\n",
    "    print(\"\\nCannot prepare features - missing required data\")"
   ]
  },
  {
   "cell_type": "markdown",
   "id": "a952a10c",
   "metadata": {
    "cell_marker": "\"\"\"",
    "lines_to_next_cell": 1
   },
   "source": [
    "## 4. Model Training and Evaluation"
   ]
  },
  {
   "cell_type": "code",
   "execution_count": null,
   "id": "c0bd3131",
   "metadata": {
    "lines_to_next_cell": 1
   },
   "outputs": [],
   "source": [
    "def train_and_evaluate(X, y, task=\"classification\", n_splits=5, random_state=42):\n",
    "    \"\"\"\n",
    "    Perform cross-validated training and evaluation\n",
    "    \n",
    "    Args:\n",
    "        X: Feature matrix\n",
    "        y: Target values\n",
    "        task: \"classification\" or \"regression\"\n",
    "        n_splits: Number of CV folds\n",
    "        random_state: Random seed\n",
    "    \"\"\"\n",
    "    if task == \"classification\":\n",
    "        cv = StratifiedKFold(n_splits=n_splits, shuffle=True, random_state=random_state)\n",
    "        model = get_xgb_classifier()\n",
    "    else:  # \"regression\"\n",
    "        cv = KFold(n_splits=n_splits, shuffle=True, random_state=random_state)\n",
    "        model = get_xgb_regressor()\n",
    "    \n",
    "    metrics = []\n",
    "    \n",
    "    for fold, (train_idx, test_idx) in enumerate(cv.split(X, y if task == \"classification\" else X)):\n",
    "        X_train, X_test = X.iloc[train_idx], X.iloc[test_idx]\n",
    "        y_train, y_test = y.iloc[train_idx], y.iloc[test_idx]\n",
    "        \n",
    "        model.fit(X_train, y_train)\n",
    "        \n",
    "        if task == \"classification\":\n",
    "            acc, cm, roc_data = evaluate_classifier(model, X_test, y_test)\n",
    "            metrics.append({\"fold\": fold+1, \"accuracy\": acc})\n",
    "            \n",
    "            if fold == 0:  # Plot for first fold only to avoid repetition\n",
    "                plot_confusion_matrix(cm)\n",
    "                plot_roc_curves(roc_data)\n",
    "        else: # \"regression\"\n",
    "            rmse, mae, r2 = evaluate_regressor(model, X_test, y_test)\n",
    "            metrics.append({\"fold\": fold+1, \"rmse\": rmse, \"mae\": mae, \"r2\": r2})\n",
    "    \n",
    "    # Display average metrics\n",
    "    metrics_df = pd.DataFrame(metrics)\n",
    "    print(f\"\\nAverage {task} metrics across {n_splits} folds:\")\n",
    "    display(metrics_df.mean().to_frame().T)\n",
    "    \n",
    "    # Plot feature importance\n",
    "    plot_feature_importance(model)\n",
    "    \n",
    "    return model"
   ]
  },
  {
   "cell_type": "code",
   "execution_count": null,
   "id": "f027f403",
   "metadata": {},
   "outputs": [],
   "source": [
    "# Only run if data is prepared\n",
    "if 'X' in locals() and 'y_class' in locals():\n",
    "    print(\"Training classification model...\")\n",
    "    clf_model = train_and_evaluate(X, y_class, task=\"classification\")\n",
    "    \n",
    "    print(\"\\nTraining regression model...\")\n",
    "    reg_model = train_and_evaluate(X, y_reg, task=\"regression\")\n",
    "else:\n",
    "    print(\"Cannot train models - features not prepared\")"
   ]
  },
  {
   "cell_type": "markdown",
   "id": "df45dc8e",
   "metadata": {
    "cell_marker": "\"\"\""
   },
   "source": [
    "## 5. Save Models"
   ]
  },
  {
   "cell_type": "code",
   "execution_count": null,
   "id": "04bc4645",
   "metadata": {},
   "outputs": [],
   "source": [
    "if 'clf_model' in locals() and 'reg_model' in locals():\n",
    "    joblib.dump(clf_model, \"aortic_classifier.joblib\")\n",
    "    joblib.dump(reg_model, \"aortic_regressor.joblib\")\n",
    "    print(\"Models saved successfully!\")\n",
    "elif 'X' not in locals():\n",
    "    print(\"Cannot save models - models not trained\")"
   ]
  }
 ],
 "metadata": {
  "jupytext": {
   "cell_metadata_filter": "-all",
   "main_language": "python",
   "notebook_metadata_filter": "-all"
  },
  "kernelspec": {
   "display_name": "aorta",
   "language": "python",
   "name": "aorta"
  },
  "language_info": {
   "codemirror_mode": {
    "name": "ipython",
    "version": 3
   },
   "file_extension": ".py",
   "mimetype": "text/x-python",
   "name": "python",
   "nbconvert_exporter": "python",
   "pygments_lexer": "ipython3",
   "version": "3.10.16"
  }
 },
 "nbformat": 4,
 "nbformat_minor": 5
}
