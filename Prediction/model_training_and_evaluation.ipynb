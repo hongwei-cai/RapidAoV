{
 "cells": [
  {
   "cell_type": "markdown",
   "id": "a6fefe97",
   "metadata": {
    "cell_marker": "\"\"\""
   },
   "source": [
    "# Model Training and Evaluation\n",
    "This notebook combines regression and classification tasks for training and evaluating machine learning models."
   ]
  },
  {
   "cell_type": "markdown",
   "id": "7e6efccb",
   "metadata": {
    "cell_marker": "\"\"\""
   },
   "source": [
    "## 1. Import Required Libraries"
   ]
  },
  {
   "cell_type": "code",
   "execution_count": 5,
   "id": "4d85e63b",
   "metadata": {},
   "outputs": [],
   "source": [
    "import pandas as pd\n",
    "import numpy as np\n",
    "import xgboost as xgb\n",
    "import matplotlib.pyplot as plt\n",
    "from sklearn.model_selection import train_test_split, KFold, StratifiedKFold\n",
    "from sklearn.metrics import mean_squared_error, mean_absolute_error, r2_score, accuracy_score, classification_report, confusion_matrix, roc_auc_score, roc_curve\n",
    "import joblib"
   ]
  },
  {
   "cell_type": "markdown",
   "id": "fcbcd3f9",
   "metadata": {
    "cell_marker": "\"\"\""
   },
   "source": [
    "## 2. Load Preprocessed Data"
   ]
  },
  {
   "cell_type": "code",
   "execution_count": 6,
   "id": "c23be30d",
   "metadata": {},
   "outputs": [
    {
     "name": "stdout",
     "output_type": "stream",
     "text": [
      "Data loaded successfully with shape: (215, 463)\n",
      "Feature matrix shape: (215, 460)\n",
      "Regression target shape: (215,)\n",
      "Classification target shape: (215,)\n"
     ]
    }
   ],
   "source": [
    "# Load preprocessed data\n",
    "data_path = 'preprocessed_data_root_all.csv'\n",
    "data = pd.read_csv(data_path)\n",
    "print(f'Data loaded successfully with shape: {data.shape}')\n",
    "# Prepare features and targets\n",
    "X = data.drop(columns=['ID', 'max_diameter', 'Label'])\n",
    "y_reg = data['max_diameter']\n",
    "y_class = data['Label']\n",
    "print(f'Feature matrix shape: {X.shape}')\n",
    "print(f'Regression target shape: {y_reg.shape}')\n",
    "print(f'Classification target shape: {y_class.shape}')"
   ]
  },
  {
   "cell_type": "markdown",
   "id": "6c22a715",
   "metadata": {
    "cell_marker": "\"\"\""
   },
   "source": [
    "## 3. Regression Analysis"
   ]
  },
  {
   "cell_type": "code",
   "execution_count": 7,
   "id": "7134c048",
   "metadata": {},
   "outputs": [
    {
     "name": "stdout",
     "output_type": "stream",
     "text": [
      "Mean RMSE: 5.0383 ± 0.4567\n",
      "Mean MAE: 3.8847 ± 0.2429\n",
      "Mean R2: 0.5017 ± 0.1210\n"
     ]
    }
   ],
   "source": [
    "kf = KFold(n_splits=5, shuffle=True, random_state=42)\n",
    "rmse_scores, mae_scores, r2_scores = [], [], []\n",
    "for fold, (train_idx, test_idx) in enumerate(kf.split(X)):\n",
    "    X_train, X_test = X.iloc[train_idx], X.iloc[test_idx]\n",
    "    y_train, y_test = y_reg.iloc[train_idx], y_reg.iloc[test_idx]\n",
    "    model_reg = xgb.XGBRegressor(objective='reg:squarederror', eval_metric='rmse', max_depth=6, learning_rate=0.01, n_estimators=1000, subsample=0.7, colsample_bytree=0.9, min_child_weight=2, gamma=0.1, random_state=42)\n",
    "    model_reg.fit(X_train, y_train)\n",
    "    y_pred = model_reg.predict(X_test)\n",
    "    rmse_scores.append(np.sqrt(mean_squared_error(y_test, y_pred)))\n",
    "    mae_scores.append(mean_absolute_error(y_test, y_pred))\n",
    "    r2_scores.append(r2_score(y_test, y_pred))\n",
    "print(f'Mean RMSE: {np.mean(rmse_scores):.4f} ± {np.std(rmse_scores):.4f}')\n",
    "print(f'Mean MAE: {np.mean(mae_scores):.4f} ± {np.std(mae_scores):.4f}')\n",
    "print(f'Mean R2: {np.mean(r2_scores):.4f} ± {np.std(r2_scores):.4f}')"
   ]
  },
  {
   "cell_type": "markdown",
   "id": "a952a10c",
   "metadata": {
    "cell_marker": "\"\"\"",
    "lines_to_next_cell": 1
   },
   "source": [
    "## 4. Binary Classification"
   ]
  },
  {
   "cell_type": "code",
   "execution_count": 9,
   "id": "c0bd3131",
   "metadata": {
    "lines_to_next_cell": 1
   },
   "outputs": [
    {
     "name": "stdout",
     "output_type": "stream",
     "text": [
      "Classification Accuracy: 0.5116\n",
      "Classification Report:\n",
      "              precision    recall  f1-score   support\n",
      "\n",
      "           0       0.63      0.86      0.73        22\n",
      "           1       0.20      0.20      0.20        10\n",
      "           2       0.50      0.14      0.22         7\n",
      "           3       0.00      0.00      0.00         4\n",
      "\n",
      "    accuracy                           0.51        43\n",
      "   macro avg       0.33      0.30      0.29        43\n",
      "weighted avg       0.45      0.51      0.46        43\n",
      "\n"
     ]
    }
   ],
   "source": [
    "X_train, X_test, y_train, y_test = train_test_split(\n",
    "    X, y_class, test_size=0.2, random_state=42, stratify=y_class\n",
    ")\n",
    "model_class = xgb.XGBClassifier(\n",
    "    objective='multi:softprob', eval_metric='mlogloss', \n",
    "    num_class=4, max_depth=4, learning_rate=0.1, n_estimators=100, subsample=0.3,\n",
    "    colsample_bytree=0.6, min_child_weight=3, gamma=0.2, random_state=42\n",
    ")\n",
    "model_class.fit(X_train, y_train)\n",
    "y_pred = model_class.predict(X_test)\n",
    "accuracy = accuracy_score(y_test, y_pred)\n",
    "print(f'Classification Accuracy: {accuracy:.4f}')\n",
    "print('Classification Report:')\n",
    "print(classification_report(y_test, y_pred))"
   ]
  },
  {
   "cell_type": "markdown",
   "id": "df45dc8e",
   "metadata": {
    "cell_marker": "\"\"\""
   },
   "source": [
    "## 5. Save Models"
   ]
  },
  {
   "cell_type": "code",
   "execution_count": 11,
   "id": "04bc4645",
   "metadata": {},
   "outputs": [
    {
     "name": "stdout",
     "output_type": "stream",
     "text": [
      "Models saved successfully!\n"
     ]
    }
   ],
   "source": [
    "joblib.dump(model_reg, 'models/xgb_regressor.joblib')\n",
    "joblib.dump(model_class, 'models/xgb_classifier.joblib')\n",
    "print('Models saved successfully!')"
   ]
  },
  {
   "cell_type": "code",
   "execution_count": null,
   "id": "4b222486-a673-47a6-849e-a947ea46af81",
   "metadata": {},
   "outputs": [],
   "source": []
  }
 ],
 "metadata": {
  "jupytext": {
   "cell_metadata_filter": "-all",
   "main_language": "python",
   "notebook_metadata_filter": "-all"
  },
  "kernelspec": {
   "display_name": "aorta",
   "language": "python",
   "name": "aorta"
  },
  "language_info": {
   "codemirror_mode": {
    "name": "ipython",
    "version": 3
   },
   "file_extension": ".py",
   "mimetype": "text/x-python",
   "name": "python",
   "nbconvert_exporter": "python",
   "pygments_lexer": "ipython3",
   "version": "3.10.16"
  }
 },
 "nbformat": 4,
 "nbformat_minor": 5
}
