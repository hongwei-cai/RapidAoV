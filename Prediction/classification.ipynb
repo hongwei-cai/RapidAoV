{
 "cells": [
  {
   "cell_type": "markdown",
   "id": "99907563",
   "metadata": {},
   "source": [
    "# Classification Analysis\n",
    "This notebook combines binary classification, multi-class classification, and baseline model tasks using XGBoost."
   ]
  },
  {
   "cell_type": "markdown",
   "id": "73e9df53",
   "metadata": {},
   "source": [
    "## 1. Import Required Libraries"
   ]
  },
  {
   "cell_type": "code",
   "execution_count": 4,
   "id": "90cc44f9",
   "metadata": {},
   "outputs": [],
   "source": [
    "import pandas as pd\n",
    "import numpy as np\n",
    "import xgboost as xgb\n",
    "import matplotlib.pyplot as plt\n",
    "import seaborn as sns\n",
    "from sklearn.model_selection import train_test_split, StratifiedKFold\n",
    "from sklearn.metrics import accuracy_score, classification_report, confusion_matrix, ConfusionMatrixDisplay, roc_auc_score, roc_curve\n",
    "from sklearn.preprocessing import label_binarize"
   ]
  },
  {
   "cell_type": "markdown",
   "id": "41e87902",
   "metadata": {},
   "source": [
    "## 2. Load and Preprocess Data"
   ]
  },
  {
   "cell_type": "code",
   "execution_count": 5,
   "id": "e8bf0443",
   "metadata": {},
   "outputs": [
    {
     "name": "stdout",
     "output_type": "stream",
     "text": [
      "Data loaded successfully with shape: (215, 463)\n",
      "Feature matrix shape: (215, 460)\n",
      "Binary target shape: (215,)\n",
      "Multi-class target shape: (215,)\n"
     ]
    }
   ],
   "source": [
    "# Load preprocessed data\n",
    "data_path = 'preprocessed_data_root_all.csv'\n",
    "data = pd.read_csv(data_path)\n",
    "print(f'Data loaded successfully with shape: {data.shape}')\n",
    "# Prepare features and targets\n",
    "X = data.drop(columns=['ID', 'max_diameter', 'Label'])\n",
    "y_binary = (data['max_diameter'] >= 45).astype(int)  # Binary classification\n",
    "y_multi = data['Label']  # Multi-class classification\n",
    "print(f'Feature matrix shape: {X.shape}')\n",
    "print(f'Binary target shape: {y_binary.shape}')\n",
    "print(f'Multi-class target shape: {y_multi.shape}')"
   ]
  },
  {
   "cell_type": "markdown",
   "id": "f37fdf19",
   "metadata": {},
   "source": [
    "## 3. Binary Classification"
   ]
  },
  {
   "cell_type": "code",
   "execution_count": 8,
   "id": "b696fdaf",
   "metadata": {},
   "outputs": [
    {
     "name": "stdout",
     "output_type": "stream",
     "text": [
      "Binary Classification Accuracy: 0.7442\n",
      "Binary Classification ROC AUC Score: 0.8182\n",
      "Classification Report:\n",
      "              precision    recall  f1-score   support\n",
      "\n",
      "           0       0.84      0.81      0.83        32\n",
      "           1       0.50      0.55      0.52        11\n",
      "\n",
      "    accuracy                           0.74        43\n",
      "   macro avg       0.67      0.68      0.67        43\n",
      "weighted avg       0.75      0.74      0.75        43\n",
      "\n"
     ]
    }
   ],
   "source": [
    "X_train, X_test, y_train, y_test = train_test_split(X, y_binary, test_size=0.2, random_state=42, stratify=y_binary)\n",
    "model_binary = xgb.XGBClassifier(objective='binary:logistic', eval_metric='logloss', max_depth=3, learning_rate=0.01, n_estimators=1000, subsample=0.1, colsample_bytree=0.2)\n",
    "model_binary.fit(X_train, y_train)\n",
    "y_pred = model_binary.predict(X_test)\n",
    "y_pred_proba = model_binary.predict_proba(X_test)[:, 1]\n",
    "accuracy = accuracy_score(y_test, y_pred)\n",
    "roc_auc = roc_auc_score(y_test, y_pred_proba)\n",
    "print(f'Binary Classification Accuracy: {accuracy:.4f}')\n",
    "print(f'Binary Classification ROC AUC Score: {roc_auc:.4f}')\n",
    "print('Classification Report:')\n",
    "print(classification_report(y_test, y_pred))"
   ]
  },
  {
   "cell_type": "markdown",
   "id": "37275080",
   "metadata": {},
   "source": [
    "## 4. Multi-Class Classification"
   ]
  },
  {
   "cell_type": "code",
   "execution_count": 9,
   "id": "579b6bf8",
   "metadata": {},
   "outputs": [
    {
     "name": "stdout",
     "output_type": "stream",
     "text": [
      "Multi-Class Classification Accuracy: 0.5116\n",
      "Classification Report:\n",
      "              precision    recall  f1-score   support\n",
      "\n",
      "           0       0.63      0.86      0.73        22\n",
      "           1       0.20      0.20      0.20        10\n",
      "           2       0.50      0.14      0.22         7\n",
      "           3       0.00      0.00      0.00         4\n",
      "\n",
      "    accuracy                           0.51        43\n",
      "   macro avg       0.33      0.30      0.29        43\n",
      "weighted avg       0.45      0.51      0.46        43\n",
      "\n"
     ]
    }
   ],
   "source": [
    "X_train, X_test, y_train, y_test = train_test_split(X, y_multi, test_size=0.2, random_state=42, stratify=y_multi)\n",
    "model_multi = xgb.XGBClassifier(objective='multi:softprob', eval_metric='mlogloss', num_class=4, max_depth=4, learning_rate=0.1, n_estimators=100, subsample=0.3, colsample_bytree=0.6, min_child_weight=3, gamma=0.2, random_state=42)\n",
    "model_multi.fit(X_train, y_train)\n",
    "y_pred = model_multi.predict(X_test)\n",
    "accuracy = accuracy_score(y_test, y_pred)\n",
    "print(f'Multi-Class Classification Accuracy: {accuracy:.4f}')\n",
    "print('Classification Report:')\n",
    "print(classification_report(y_test, y_pred))"
   ]
  },
  {
   "cell_type": "markdown",
   "id": "1fc65449",
   "metadata": {},
   "source": [
    "## 5. Baseline Model"
   ]
  },
  {
   "cell_type": "code",
   "execution_count": 10,
   "id": "30d83c8e",
   "metadata": {},
   "outputs": [
    {
     "name": "stdout",
     "output_type": "stream",
     "text": [
      "Mean Baseline Accuracy: 0.5628 ± 0.0271\n"
     ]
    }
   ],
   "source": [
    "skf = StratifiedKFold(n_splits=5, shuffle=True, random_state=42)\n",
    "accuracy_scores = []\n",
    "for fold, (train_idx, test_idx) in enumerate(skf.split(X, y_multi)):\n",
    "    X_train, X_test = X.iloc[train_idx], X.iloc[test_idx]\n",
    "    y_train, y_test = y_multi.iloc[train_idx], y_multi.iloc[test_idx]\n",
    "    model_baseline = xgb.XGBClassifier(objective='multi:softmax', eval_metric='mlogloss', num_class=4, max_depth=6, learning_rate=0.1, n_estimators=1000, subsample=0.7, colsample_bytree=0.9, min_child_weight=2, gamma=0.1, random_state=42)\n",
    "    model_baseline.fit(X_train, y_train)\n",
    "    y_pred = model_baseline.predict(X_test)\n",
    "    accuracy_scores.append(accuracy_score(y_test, y_pred))\n",
    "print(f'Mean Baseline Accuracy: {np.mean(accuracy_scores):.4f} ± {np.std(accuracy_scores):.4f}')"
   ]
  },
  {
   "cell_type": "code",
   "execution_count": null,
   "id": "e26659f0-c524-43c0-bfa3-38c2e1135b99",
   "metadata": {},
   "outputs": [],
   "source": []
  }
 ],
 "metadata": {
  "kernelspec": {
   "display_name": "aorta",
   "language": "python",
   "name": "aorta"
  },
  "language_info": {
   "codemirror_mode": {
    "name": "ipython",
    "version": 3
   },
   "file_extension": ".py",
   "mimetype": "text/x-python",
   "name": "python",
   "nbconvert_exporter": "python",
   "pygments_lexer": "ipython3",
   "version": "3.10.16"
  }
 },
 "nbformat": 4,
 "nbformat_minor": 5
}
